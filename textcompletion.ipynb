{
 "cells": [
  {
   "cell_type": "markdown",
   "id": "8645d52a",
   "metadata": {},
   "source": [
    "# Ein einfacher Textgenerator\n",
    "Der Code stammt von Usman Malik und ist unter https://stackabuse.com/python-for-nlp-developing-an-automatic-text-filler-using-n-grams/ beschrieben"
   ]
  },
  {
   "cell_type": "code",
   "execution_count": 1,
   "id": "7c7340ed-9f29-4bb5-bfd7-694ab46fb502",
   "metadata": {},
   "outputs": [],
   "source": [
    "import random\n",
    "import nltk"
   ]
  },
  {
   "cell_type": "markdown",
   "id": "e657faed",
   "metadata": {},
   "source": [
    "## Korpus einlesen und auf Lower Case stellen"
   ]
  },
  {
   "cell_type": "code",
   "execution_count": 13,
   "id": "e859df1e-60b0-41ac-a957-5fe0b09ce7ef",
   "metadata": {},
   "outputs": [],
   "source": [
    "with open(\"plosone_abstracts.txt\") as f:\n",
    "    corpus = f.read()\n",
    "f.close()\n",
    "corpus = corpus.lower()"
   ]
  },
  {
   "cell_type": "markdown",
   "id": "942306a6",
   "metadata": {},
   "source": [
    "## Ngramme berechnen"
   ]
  },
  {
   "cell_type": "code",
   "execution_count": 14,
   "id": "b72421af-306c-4ba5-9d19-8b2c08584eeb",
   "metadata": {},
   "outputs": [],
   "source": [
    "ngrams = {}\n",
    "words = 3\n",
    "\n",
    "words_tokens = nltk.word_tokenize(corpus)\n",
    "for i in range(len(words_tokens)-words):\n",
    "    seq = ' '.join(words_tokens[i:i+words])\n",
    "    if seq not in ngrams.keys():\n",
    "        ngrams[seq] = []\n",
    "    ngrams[seq].append(words_tokens[i+words])"
   ]
  },
  {
   "cell_type": "markdown",
   "id": "1db7dabe",
   "metadata": {},
   "source": [
    "## Text generieren und ausgeben"
   ]
  },
  {
   "cell_type": "code",
   "execution_count": 15,
   "id": "420ab1c5-9d3e-4b70-8730-d88d57e4dbf6",
   "metadata": {},
   "outputs": [
    {
     "name": "stdout",
     "output_type": "stream",
     "text": [
      "we argue that widely available written texts have shown that scaling laws emerge as expectation values of these conditional statistics . knowledge of such interactions is crucial for adaptive and proactive behaviour . it is important that older adults have difficulties in prosody ( music of speech ) , and adaptive behavior at ages 4 and 6 years , were assessed for ( 1 ) front vowels are more likely to use lexical strategies in place of parametric statistical tests , we provide a further step towards fully automated web service discovery via making this process more semantic-aware . in addition , audio self-recovery must comply with a transparency threshold , adequate for applications such as collection management and navigation , summary and analysis . then , the complete blind recognition steps of the hard-decision algorithm and the soft-decision algorithm are given in detail . and the users agree that some words sound harsh ( e.g . specificity , familiarity ) and emotional value of sounds have been proved to influence hemispheric specialization . however , the behavioral recognition ( identification stage ) of emotional sentences was impaired in local coherence , which was able to classify free-text clinical notes quickly and accurately\n"
     ]
    }
   ],
   "source": [
    "curr_sequence = \"we argue that\"\n",
    "output = curr_sequence\n",
    "for i in range(200):\n",
    "    if curr_sequence not in ngrams.keys():\n",
    "        break\n",
    "    possible_words = ngrams[curr_sequence]\n",
    "    next_word = possible_words[random.randrange(len(possible_words))]\n",
    "    output += ' ' + next_word\n",
    "    seq_words = nltk.word_tokenize(output)\n",
    "    curr_sequence = ' '.join(seq_words[len(seq_words)-words:len(seq_words)])\n",
    "print(output)"
   ]
  },
  {
   "cell_type": "code",
   "execution_count": null,
   "id": "0bc27c36",
   "metadata": {},
   "outputs": [],
   "source": []
  }
 ],
 "metadata": {
  "kernelspec": {
   "display_name": "Python 3 (ipykernel)",
   "language": "python",
   "name": "python3"
  },
  "language_info": {
   "codemirror_mode": {
    "name": "ipython",
    "version": 3
   },
   "file_extension": ".py",
   "mimetype": "text/x-python",
   "name": "python",
   "nbconvert_exporter": "python",
   "pygments_lexer": "ipython3",
   "version": "3.8.8"
  }
 },
 "nbformat": 4,
 "nbformat_minor": 5
}
